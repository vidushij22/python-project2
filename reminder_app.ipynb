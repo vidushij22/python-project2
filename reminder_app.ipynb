{
 "cells": [
  {
   "cell_type": "code",
   "execution_count": 2,
   "metadata": {},
   "outputs": [
    {
     "name": "stdout",
     "output_type": "stream",
     "text": [
      "==== Welcome to My Reminder App ====\n",
      "1. Add a new reminder\n",
      "2. Quit\n",
      "Thank you for using the reminder app. Goodbye!\n"
     ]
    }
   ],
   "source": [
    "# Importing necessary libraries\n",
    "import time\n",
    "from plyer import notification\n",
    "from IPython.display import clear_output\n",
    "\n",
    "# Function to handle notifications\n",
    "def notify_user(reminder_title, reminder_message):\n",
    "    try:\n",
    "        notification.notify(\n",
    "            title=reminder_title,\n",
    "            message=reminder_message,\n",
    "            timeout=8  # Notification stays for 8 seconds\n",
    "        )\n",
    "    except NotImplementedError:\n",
    "        print(f\"ALERT: {reminder_title} - {reminder_message}\")\n",
    "\n",
    "# Function to input reminder details\n",
    "def get_reminder_details():\n",
    "    reminder_title = input(\"What should the reminder title be? \")\n",
    "    reminder_message = input(\"Add some details for the reminder: \")\n",
    "    try:\n",
    "        reminder_time = int(input(\"After how many seconds should I remind you? \"))\n",
    "        if reminder_time <= 0:\n",
    "            raise ValueError(\"Time must be a positive number.\")\n",
    "    except ValueError as e:\n",
    "        print(f\"Invalid input: {e}\")\n",
    "        return None, None, None\n",
    "    return reminder_title, reminder_message, reminder_time\n",
    "\n",
    "# Main function for the reminder program\n",
    "def run_reminder_program():\n",
    "    while True:\n",
    "        clear_output(wait=True)\n",
    "        print(\"==== Welcome to My Reminder App ====\")\n",
    "        print(\"1. Add a new reminder\")\n",
    "        print(\"2. Quit\")\n",
    "        user_choice = input(\"Choose an option (1/2): \")\n",
    "\n",
    "        if user_choice == '1':\n",
    "            print(\"\\n--- Setting up your reminder ---\")\n",
    "            title, message, delay = get_reminder_details()\n",
    "            \n",
    "            if title and message and delay:\n",
    "                print(f\"Reminder set! I will remind you in {delay} seconds.\\n\")\n",
    "                time.sleep(delay)\n",
    "                notify_user(title, message)\n",
    "                print(\"Reminder notification sent!\")\n",
    "            else:\n",
    "                print(\"Reminder not set. Please try again.\")\n",
    "            time.sleep(2)\n",
    "\n",
    "        elif user_choice == '2':\n",
    "            print(\"Thank you for using the reminder app. Goodbye!\")\n",
    "            break\n",
    "\n",
    "        else:\n",
    "            print(\"Invalid choice. Please select either 1 or 2.\")\n",
    "            time.sleep(2)\n",
    "\n",
    "# Run the app\n",
    "run_reminder_program()\n"
   ]
  },
  {
   "cell_type": "code",
   "execution_count": null,
   "metadata": {},
   "outputs": [],
   "source": [
    "#Improved Digestion. Proper digestion is vital for extracting nutrients from the food we eat. ..."
   ]
  }
 ],
 "metadata": {
  "kernelspec": {
   "display_name": "Python 3",
   "language": "python",
   "name": "python3"
  },
  "language_info": {
   "codemirror_mode": {
    "name": "ipython",
    "version": 3
   },
   "file_extension": ".py",
   "mimetype": "text/x-python",
   "name": "python",
   "nbconvert_exporter": "python",
   "pygments_lexer": "ipython3",
   "version": "3.9.6"
  }
 },
 "nbformat": 4,
 "nbformat_minor": 2
}
